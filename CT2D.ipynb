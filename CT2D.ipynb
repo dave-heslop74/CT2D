{
 "cells": [
  {
   "cell_type": "markdown",
   "metadata": {},
   "source": [
    "***Jupyter Notebook to estimate Bayes factor for circular conglomerate test:***\n",
    "    \n",
    "***by D. Heslop*** *(david.heslop@anu.edu.au)* \n",
    "\n",
    "*Research School of Earth Sciences, The Australian National University, Canberra ACT 2601, Australia.*\n",
    "\n",
    "**VERSION 1.0 (22 Feb 2019)**"
   ]
  },
  {
   "cell_type": "markdown",
   "metadata": {},
   "source": [
    "The *scipy* package is required (<https://www.scipy.org/>)"
   ]
  },
  {
   "cell_type": "code",
   "execution_count": 1,
   "metadata": {},
   "outputs": [],
   "source": [
    "import scipy as sp #import scipy library\n",
    "from scipy.integrate import quad #import quadrature function\n",
    "from scipy.special import iv"
   ]
  },
  {
   "cell_type": "markdown",
   "metadata": {},
   "source": [
    "Specify the circular Bayesian conglomerate test parameters:\n",
    "\n",
    "$N$ = number of paleomagnetic directions,\n",
    "\n",
    "$R$ = resultant vector length."
   ]
  },
  {
   "cell_type": "code",
   "execution_count": 2,
   "metadata": {},
   "outputs": [],
   "source": [
    "N=1 #number of samples\n",
    "R=1 #resultant vector length"
   ]
  },
  {
   "cell_type": "markdown",
   "metadata": {},
   "source": [
    "Calculate the Bayes factor numerator, corresponding to the marginal likelihood of a von Mises distribution with $\\kappa$=0. The prior for the mean direction is set as a uniform distribution on a unit sphere, which implies that we have no *a priori* information to suggest the mean of the resultant vector has a preferred direction.\n",
    "\n",
    "The marginal likelihood is given by: $2 \\pi ^{(1-N)}$"
   ]
  },
  {
   "cell_type": "code",
   "execution_count": 3,
   "metadata": {},
   "outputs": [],
   "source": [
    "U0=(2.0*sp.pi)**(1-N)"
   ]
  },
  {
   "cell_type": "markdown",
   "metadata": {},
   "source": [
    "The Bayes factor denominator, corresponds to the marginal likelihood of a von Mises distribution with $\\kappa >$0. \n",
    "\n",
    "For a given value of $\\kappa$ and a uniform prior on the mean direction, the marginal likelihood is given by:\n",
    "\n",
    "$U(\\kappa,n,R)=\\left[ \\frac{1}{2 \\pi I_0(\\kappa)}\\right] ^n 2 \\pi I_0(\\kappa R)$\n",
    "\n",
    "where $I_0(\\kappa)$ is a modified Bessel function of the first kind with order 0."
   ]
  },
  {
   "cell_type": "markdown",
   "metadata": {},
   "source": [
    "The above expression assumes $\\kappa$ is known. In the case of the conglomerate test, however, we have to define a prior for $\\kappa$ because it is a unknown. The prior on $\\kappa$ for a von Mises distribution is given by [Dowe *et al.*, 1999]:\n",
    "\n",
    "$h(\\kappa) = \\frac{\\kappa}{(1 + \\kappa^2)^{3/2}}$."
   ]
  },
  {
   "cell_type": "code",
   "execution_count": 4,
   "metadata": {},
   "outputs": [],
   "source": [
    "def integrand(k,N,R):\n",
    "    h = k / (1 + k**2)**1.5\n",
    "    L = (1.0 / (2.0*sp.pi*iv(0,k)))**N * 2.0*sp.pi*iv(0,k*R) \n",
    "    return h*L"
   ]
  },
  {
   "cell_type": "markdown",
   "metadata": {},
   "source": [
    "I would prefer to estimate the product of the likelihood and the prior using logarithms to help with numerical stability. At the moment, however, I'm not sure how to deal with the modified Bessel function in terms of logarithms. Therefore, I've truncated the integration at $\\kappa$ = 100 rather than $\\infty$. This shouldn't be a big problem, but it might cause a small error in the estimated Bayes factor."
   ]
  },
  {
   "cell_type": "code",
   "execution_count": 5,
   "metadata": {},
   "outputs": [],
   "source": [
    "result = quad(integrand, 0, 100, args=(N,R))[0]"
   ]
  },
  {
   "cell_type": "markdown",
   "metadata": {},
   "source": [
    "We can now calculate the Bayes Factor:"
   ]
  },
  {
   "cell_type": "code",
   "execution_count": 6,
   "metadata": {},
   "outputs": [
    {
     "name": "stdout",
     "output_type": "stream",
     "text": [
      "1.0101004999875005\n"
     ]
    }
   ],
   "source": [
    "BF = U0/result\n",
    "print(BF)"
   ]
  },
  {
   "cell_type": "markdown",
   "metadata": {},
   "source": [
    "and finally the value of $P(H_A|R)$, which corresponds to the probability that the observed directions are uniformly random."
   ]
  },
  {
   "cell_type": "code",
   "execution_count": 7,
   "metadata": {},
   "outputs": [
    {
     "name": "stdout",
     "output_type": "stream",
     "text": [
      "0.5025124365641328\n"
     ]
    }
   ],
   "source": [
    "P=BF/(1+BF)\n",
    "print(P)"
   ]
  },
  {
   "cell_type": "markdown",
   "metadata": {
    "collapsed": true
   },
   "source": [
    "The estimated value of $P(H_A|R)$ can be compared to Table 1 in the Bayesian conglomerate test paper to find the corresponding category of support [Raftery, 1995] for the hypothesis of uniformly random directions."
   ]
  }
 ],
 "metadata": {
  "kernelspec": {
   "display_name": "Python 3",
   "language": "python",
   "name": "python3"
  },
  "language_info": {
   "codemirror_mode": {
    "name": "ipython",
    "version": 3
   },
   "file_extension": ".py",
   "mimetype": "text/x-python",
   "name": "python",
   "nbconvert_exporter": "python",
   "pygments_lexer": "ipython3",
   "version": "3.6.6"
  }
 },
 "nbformat": 4,
 "nbformat_minor": 2
}
